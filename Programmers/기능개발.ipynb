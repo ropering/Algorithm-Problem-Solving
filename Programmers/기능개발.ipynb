{
 "cells": [
  {
   "cell_type": "markdown",
   "metadata": {},
   "source": [
    "문제 설명\n",
    "각 기능은 진도가 100%일 때 서비스에 반영할 수 있습\n",
    "기능개발 : 뒤에 있는 기능이 앞에 있는 기능보다 먼저 개발될 수 있다\n",
    "배포 : 뒤에 있는 기능은 앞에 있는 기능이 배포될 때 함께 배포됩니다\n",
    "progresses : 먼저 배포되어야 하는 순서대로 작업의 진도가 적힌 정수 배열\n",
    "return : 각 작업의 개발 속도가 적힌 정수 배열 speeds가 주어질 때 각 배포마다 몇 개의 기능이 배포되는지\n",
    "\n",
    "배포는 하루에 한 번만 할 수 있으며, \n",
    "하루의 끝에 이루어진다 예를 들어 진도율이 95%인 작업의 개발 속도가 하루에 4%라면 배포는 2일 뒤에 이루어집니다\n",
    "(100 넘으면 배포 진행)\n",
    "\n",
    "해결 방법\n",
    "- while문 돌려서 idx 0이 100이 되기 전까지 \n",
    "- 100이 넘으면 "
   ]
  },
  {
   "cell_type": "code",
   "execution_count": 24,
   "metadata": {},
   "outputs": [
    {
     "data": {
      "text/plain": [
       "[1, 3, 2]"
      ]
     },
     "execution_count": 24,
     "metadata": {},
     "output_type": "execute_result"
    }
   ],
   "source": [
    "# 프로그래머스 - 기능 개발\n",
    "# 스택 / 큐\n",
    "# 내가 한 것 / 오류 발생\n",
    "def solution(progresses, speeds):\n",
    "    result = []\n",
    "    while len(progresses) != 0:\n",
    "        progresses = [progresses[i] + speeds[i] for i in range(len(progresses))]\n",
    "        cnt = 0 # 위치 변경\n",
    "        for val in progresses:\n",
    "            if val >= 100:\n",
    "                cnt += 1\n",
    "            else: break\n",
    "        for _ in range(cnt):\n",
    "            progresses.pop(0)\n",
    "        if cnt > 0:\n",
    "            result.append(cnt)\n",
    "    return result\n",
    "solution([95, 90, 99, 99, 80, 99], [1, 1, 1, 1, 1, 1])\n"
   ]
  },
  {
   "cell_type": "code",
   "execution_count": 26,
   "metadata": {},
   "outputs": [
    {
     "data": {
      "text/plain": [
       "[1, 3, 2]"
      ]
     },
     "execution_count": 26,
     "metadata": {},
     "output_type": "execute_result"
    }
   ],
   "source": [
    "# 재시도 / 성공\n",
    "def solution(progresses, speeds):\n",
    "    result = []\n",
    "    day = 1\n",
    "    cnt = 0\n",
    "    while len(progresses) != 0:\n",
    "        if progresses[0] >= 100:\n",
    "            progresses.pop(0)\n",
    "            speeds.pop(0)\n",
    "            cnt += 1\n",
    "        else:\n",
    "            day += 1\n",
    "            if cnt > 0:\n",
    "                result.append(cnt)\n",
    "                cnt = 0\n",
    "            progresses = [progresses[i] + speeds[i] for i in range(len(progresses))]\n",
    "    result.append(cnt)            \n",
    "    return result\n",
    "\n",
    "solution([95, 90, 99, 99, 80, 99], [1, 1, 1, 1, 1, 1])"
   ]
  },
  {
   "cell_type": "code",
   "execution_count": 30,
   "metadata": {},
   "outputs": [
    {
     "data": {
      "text/plain": [
       "[1, 1, 1, 1, 1, 4, 4, 4, 4, 4, 4, 4, 4, 4, 4, 6]"
      ]
     },
     "execution_count": 30,
     "metadata": {},
     "output_type": "execute_result"
    }
   ],
   "source": [
    "# 2021-12-03 14:32:11\n",
    "# 오류\n",
    "def solution(progresses, speeds):\n",
    "    day = 1\n",
    "    cnt = 0\n",
    "    solution = []\n",
    "    while len(progresses) != 0:\n",
    "        if progresses[0] + speeds[0] * day >= 100:\n",
    "            progresses.pop(0)\n",
    "            speeds.pop(0)\n",
    "            cnt += 1\n",
    "        else:\n",
    "            day += 1\n",
    "            if cnt > 0:\n",
    "                solution.append(cnt)\n",
    "    solution.append(cnt)\n",
    "    return solution\n",
    "solution([95, 90, 99, 99, 80, 99], [1, 1, 1, 1, 1, 1])\n"
   ]
  },
  {
   "cell_type": "code",
   "execution_count": null,
   "metadata": {},
   "outputs": [],
   "source": [
    "# 프로그래머스 - 기능 개발\n",
    "# 강사님 답변 1\n",
    "# 스택 / 큐\n",
    "\n",
    "def solution(progresses, speeds):\n",
    "    answer = []\n",
    "    while len(progresses) != 0:\n",
    "        for i in range(len(progresses)):\n",
    "            progresses[i] += speeds[i]\n",
    "        if progresses[0] >= 100:\n",
    "            count = 0\n",
    "            for _ in range(len(progresses)):\n",
    "                if progresses[0] >= 100:\n",
    "                    count += 1\n",
    "                    progresses.pop(0)\n",
    "                else:\n",
    "                    answer.append(count)\n",
    "                    count = 0\n",
    "                    break\n",
    "    answer.append(count)\n",
    "    return answer\n",
    "solution([95, 90, 99, 99, 80, 99], [1, 1, 1, 1, 1, 1])"
   ]
  },
  {
   "cell_type": "code",
   "execution_count": 12,
   "metadata": {},
   "outputs": [
    {
     "data": {
      "text/plain": [
       "[1, 3, 2]"
      ]
     },
     "execution_count": 12,
     "metadata": {},
     "output_type": "execute_result"
    }
   ],
   "source": [
    "# 프로그래머스 - 기능 개발\n",
    "# 강사님 답변 2\n",
    "# 스택 / 큐\n",
    "\n",
    "def solution(progresses, speeds):\n",
    "    answer = []\n",
    "    day = 1\n",
    "    count = 0\n",
    "    \n",
    "    while len(progresses) != 0:\n",
    "        if progresses[0] + day * speeds[0] >= 100:\n",
    "            progresses.pop(0)\n",
    "            speeds.pop(0)\n",
    "            count += 1\n",
    "        else:\n",
    "            day += 1\n",
    "            if count > 0:\n",
    "                answer.append(count)\n",
    "                count = 0\n",
    "    answer.append(count)\n",
    "    return answer\n",
    "\n",
    "solution([95, 90, 99, 99, 80, 99], [1, 1, 1, 1, 1, 1])"
   ]
  },
  {
   "cell_type": "code",
   "execution_count": 31,
   "metadata": {},
   "outputs": [
    {
     "ename": "SyntaxError",
     "evalue": "invalid syntax (<ipython-input-31-71f688284750>, line 1)",
     "output_type": "error",
     "traceback": [
      "\u001b[1;36m  File \u001b[1;32m\"<ipython-input-31-71f688284750>\"\u001b[1;36m, line \u001b[1;32m1\u001b[0m\n\u001b[1;33m    생산성 향상\u001b[0m\n\u001b[1;37m        ^\u001b[0m\n\u001b[1;31mSyntaxError\u001b[0m\u001b[1;31m:\u001b[0m invalid syntax\n"
     ]
    }
   ],
   "source": [
    "생산성 향상\n",
    "파이썬 백엔드\n",
    "창업 이야기\n",
    "머리로만 생각하는 경향, 그리는 노하우\n",
    "배운 자료구조를 바탕으로 문제에 적용하는데 어려움"
   ]
  },
  {
   "cell_type": "code",
   "execution_count": 35,
   "metadata": {},
   "outputs": [
    {
     "data": {
      "text/plain": [
       "[2, 1]"
      ]
     },
     "execution_count": 35,
     "metadata": {},
     "output_type": "execute_result"
    }
   ],
   "source": [
    "'''\n",
    "재시도\n",
    "2021-12-06 09:39:53\n",
    "해결 완료\n",
    "\n",
    "뒤에 있는 기능이 앞에 있는 기능보다 먼저 개발될 수 있고, \n",
    "이때 뒤에 있는 기능은 앞에 있는 기능이 배포될 때 함께 배포됩니다.\n",
    "먼저 배포되어야 하는 순서대로 작업의 진도가 적힌 정수 배열 progresses\n",
    "각 작업의 개발 속도가 적힌 정수 배열 speeds\n",
    "\n",
    "해결 방법\n",
    "    날짜 지날 때마다 progresses 인덱스 0 검사\n",
    "        while : progresses 개수가 0이 될때까지 \n",
    "        100 이상 : pop / count 증가\n",
    "        100 미만 : day 증가 / progresses + speeds / result 리스트에 count 변수 append\n",
    "    1개 남았고, 100 이상 되었을 때\n",
    "        result 리스트에 count 추가\n",
    "'''\n",
    "def solution(progresses, speeds):\n",
    "    result = []\n",
    "    day = 1\n",
    "    count = 0\n",
    "    \n",
    "    while progresses:\n",
    "        if progresses[0] >= 100:\n",
    "            progresses.pop(0)\n",
    "            speeds.pop(0)\n",
    "            count += 1\n",
    "        else:\n",
    "            day += 1\n",
    "            for idx, val in enumerate(speeds):\n",
    "                progresses[idx] += val\n",
    "            if count > 0:\n",
    "                result.append(count)\n",
    "                count = 0\n",
    "    result.append(count)\n",
    "    return result          \n",
    "\n",
    "# solution([95, 90, 99, 99, 80, 99], [1, 1, 1, 1, 1, 1])\n",
    "solution([93, 30, 55],[1, 30, 5])"
   ]
  }
 ],
 "metadata": {
  "interpreter": {
   "hash": "6d46af94c2bbce495f1e668725902fa517c90b1782bcfe2fce0dd9868df553d3"
  },
  "kernelspec": {
   "display_name": "Python 3.8.8 64-bit ('base': conda)",
   "language": "python",
   "name": "python3"
  },
  "language_info": {
   "codemirror_mode": {
    "name": "ipython",
    "version": 3
   },
   "file_extension": ".py",
   "mimetype": "text/x-python",
   "name": "python",
   "nbconvert_exporter": "python",
   "pygments_lexer": "ipython3",
   "version": "3.8.8"
  },
  "orig_nbformat": 4
 },
 "nbformat": 4,
 "nbformat_minor": 2
}
