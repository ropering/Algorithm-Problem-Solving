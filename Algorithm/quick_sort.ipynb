{
 "cells": [
  {
   "cell_type": "code",
   "execution_count": 6,
   "source": [
    "def quick_sort(arr):\r\n",
    "    if len(arr) <= 1:\r\n",
    "        return arr\r\n",
    "    pivot = arr[len(arr) // 2]\r\n",
    "    lesser_arr, equal_arr, greater_arr = [], [], []\r\n",
    "    for i in arr:\r\n",
    "        if i < pivot:\r\n",
    "            lesser_arr.append(i)\r\n",
    "        elif i > pivot:\r\n",
    "            greater_arr.append(i)\r\n",
    "        else:\r\n",
    "            equal_arr.append(i)\r\n",
    "    return quick_sort(lesser_arr) + equal_arr + quick_sort(greater_arr)\r\n",
    "\r\n",
    "quick_sort([9,8,7,6,5,4,3,2,1])"
   ],
   "outputs": [
    {
     "output_type": "execute_result",
     "data": {
      "text/plain": [
       "[1, 2, 3, 4, 5, 6, 7, 8, 9]"
      ]
     },
     "metadata": {},
     "execution_count": 6
    }
   ],
   "metadata": {}
  },
  {
   "cell_type": "code",
   "execution_count": null,
   "source": [
    "15분 (실제 12-13분 정도로)\r\n",
    "5분\r\n",
    "\r\n"
   ],
   "outputs": [],
   "metadata": {}
  }
 ],
 "metadata": {
  "orig_nbformat": 4,
  "language_info": {
   "name": "python",
   "version": "3.8.6",
   "mimetype": "text/x-python",
   "codemirror_mode": {
    "name": "ipython",
    "version": 3
   },
   "pygments_lexer": "ipython3",
   "nbconvert_exporter": "python",
   "file_extension": ".py"
  },
  "kernelspec": {
   "name": "python3",
   "display_name": "Python 3.8.6 64-bit (system)"
  },
  "interpreter": {
   "hash": "2db524e06e9f5f4ffedc911c917cb75e12dbc923643829bf417064a77eb14d37"
  }
 },
 "nbformat": 4,
 "nbformat_minor": 2
}