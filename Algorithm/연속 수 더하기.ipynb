{
 "cells": [
  {
   "cell_type": "code",
   "execution_count": 1,
   "metadata": {},
   "outputs": [
    {
     "ename": "SyntaxError",
     "evalue": "invalid character in identifier (<ipython-input-1-cff141293426>, line 1)",
     "output_type": "error",
     "traceback": [
      "\u001b[1;36m  File \u001b[1;32m\"<ipython-input-1-cff141293426>\"\u001b[1;36m, line \u001b[1;32m1\u001b[0m\n\u001b[1;33m    •몇 개의 연속된 자연수를 더해서 어떤 수를 만드는 방법을 생각해 봅시다. 예를 들어 15라는 자연수는 아래처럼 연속된 숫자의 합으로 표시하는 방법이 4가지 있습니다.\u001b[0m\n\u001b[1;37m     ^\u001b[0m\n\u001b[1;31mSyntaxError\u001b[0m\u001b[1;31m:\u001b[0m invalid character in identifier\n"
     ]
    }
   ],
   "source": [
    "•몇 개의 연속된 자연수를 더해서 어떤 수를 만드는 방법을 생각해 봅시다. \n",
    "예를 들어 15라는 자연수는 아래처럼 연속된 숫자의 합으로 표시하는 방법이 4가지 있습니다.\n",
    "–15\n",
    "–7+8\n",
    "–4+5+6\n",
    "–1+2+3+4+5\n",
    "•합계가 9가 되는 방법은 3가지가 있습니다.\n",
    "–9\n",
    "–4+5\n",
    "–2+3+4\n",
    "•임의의 자연수 n을 연속된 수의 합으로 나타낼 수 있는 조합을 출력하는 코드를 작성하세요."
   ]
  },
  {
   "cell_type": "code",
   "execution_count": 29,
   "metadata": {},
   "outputs": [
    {
     "data": {
      "text/plain": [
       "3"
      ]
     },
     "execution_count": 29,
     "metadata": {},
     "output_type": "execute_result"
    }
   ],
   "source": [
    "# 규칙을 찾아라!\n",
    "\n",
    "\n",
    "def solution(num):\n",
    "    count = 0\n",
    "    for i in range(1, num+1):\n",
    "        sum = 0\n",
    "        for j in range(i, num+1):\n",
    "            sum += j\n",
    "            if sum == num:\n",
    "                count += 1\n",
    "    return count\n",
    "\n",
    "solution(121)\n",
    "\n",
    "# 약수에서 홀수의 개수"
   ]
  },
  {
   "cell_type": "code",
   "execution_count": null,
   "metadata": {},
   "outputs": [],
   "source": [
    "# 상현\n",
    "\n",
    "a = input()\n",
    "\n",
    "sum = 0\n",
    "cnt = 0\n",
    "\n",
    "for i in range(1, int(a)+1):\n",
    "    for j in range(i,int(a)+1):\n",
    "        \n",
    "        sum += j\n",
    "        if(sum==int(a)):\n",
    "            cnt += 1\n",
    "            break\n",
    "    sum=0\n",
    "print(cnt)"
   ]
  }
 ],
 "metadata": {
  "interpreter": {
   "hash": "2db524e06e9f5f4ffedc911c917cb75e12dbc923643829bf417064a77eb14d37"
  },
  "kernelspec": {
   "display_name": "Python 3.8.6 64-bit (system)",
   "name": "python3"
  },
  "language_info": {
   "codemirror_mode": {
    "name": "ipython",
    "version": 3
   },
   "file_extension": ".py",
   "mimetype": "text/x-python",
   "name": "python",
   "nbconvert_exporter": "python",
   "pygments_lexer": "ipython3",
   "version": "3.8.6"
  },
  "orig_nbformat": 4
 },
 "nbformat": 4,
 "nbformat_minor": 2
}
