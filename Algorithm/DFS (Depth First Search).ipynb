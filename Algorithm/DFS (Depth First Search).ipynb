{
 "cells": [
  {
   "cell_type": "code",
   "execution_count": null,
   "source": [
    "도움 받고있는 링크\r\n",
    "- https://jeinalog.tistory.com/18\r\n",
    "- https://www.youtube.com/watch?v=7C9RgOcvkvo\r\n",
    "- https://www.youtube.com/watch?v=_hxFgg7TLZQ"
   ],
   "outputs": [],
   "metadata": {}
  },
  {
   "cell_type": "code",
   "execution_count": 7,
   "source": [
    "def DFS(start_node):\r\n",
    "    stack = [start_node, ]\r\n",
    "\r\n",
    "    while True:\r\n",
    "        if len(stack) == 0:\r\n",
    "            print(\"모든 노드 검색 완료\")\r\n",
    "            return None\r\n",
    "       \r\n",
    "        node = stack.pop()\r\n",
    "\r\n",
    "        if node == TARGET:\r\n",
    "            print(\"찾았습니다\")\r\n",
    "            return node\r\n",
    "        \r\n",
    "        children = expand(node)\r\n",
    "\r\n",
    "        stack.extend(children)"
   ],
   "outputs": [],
   "metadata": {}
  },
  {
   "cell_type": "code",
   "execution_count": 10,
   "source": [
    "# 다른 DFS\r\n",
    "# https://itholic.github.io/python-bfs-dfs/\r\n",
    "def dfs(graph, start_node):\r\n",
    "    visit = list() # 방문한 노드\r\n",
    "    stack = list()\r\n",
    "\r\n",
    "    stack.append(start_node)\r\n",
    "\r\n",
    "    while stack:\r\n",
    "        node = stack.pop()\r\n",
    "        if node not in visit: # 방문하지 않았다면 (상위 노드를 방문할 수 없다)\r\n",
    "            visit.append(node)\r\n",
    "            stack.extend(graph[node])\r\n",
    "    \r\n",
    "    return visit\r\n",
    "\r\n",
    "if __name__ == \"__main__\":\r\n",
    "    graph = {\r\n",
    "        'A': ['B'],\r\n",
    "        'B': ['A', 'C', 'H'],\r\n",
    "        'C': ['B', 'D'],\r\n",
    "        'D': ['C', 'E', 'G'],\r\n",
    "        'E': ['D', 'F'],\r\n",
    "        'F': ['E'],\r\n",
    "        'G': ['D'],\r\n",
    "        'H': ['B', 'I', 'J', 'M'],\r\n",
    "        'I': ['H'],\r\n",
    "        'J': ['H', 'K'],\r\n",
    "        'K': ['J', 'L'],\r\n",
    "        'L': ['K'],\r\n",
    "        'M': ['H']\r\n",
    "    }\r\n",
    "\r\n",
    "    # print(bfs(graph, 'A'))\r\n",
    "    print(dfs(graph, 'A'))"
   ],
   "outputs": [
    {
     "output_type": "stream",
     "name": "stdout",
     "text": [
      "['A', 'B', 'H', 'M', 'J', 'K', 'L', 'I', 'C', 'D', 'G', 'E', 'F']\n"
     ]
    }
   ],
   "metadata": {}
  },
  {
   "cell_type": "code",
   "execution_count": null,
   "source": [
    "# 다른 DFS\r\n",
    "# https://cyc1am3n.github.io/2019/04/26/bfs_dfs_with_python.html\r\n",
    "\r\n",
    "graph_list = {1: set([3, 4]), # 그래프 이해가 안된다\r\n",
    "              2: set([3, 4, 5]),\r\n",
    "              3: set([1, 5]),\r\n",
    "              4: set([1]),\r\n",
    "              5: set([2, 6]),\r\n",
    "              6: set([3, 5])}\r\n",
    "root_node = 1\r\n",
    "\r\n",
    "def dfs(graph, root):\r\n",
    "    visited = []\r\n",
    "    stack = [root]\r\n",
    "\r\n",
    "    while stack:\r\n",
    "        n = stack.pop()\r\n",
    "\r\n",
    "        if n not in visited:\r\n",
    "            visited.append(n)\r\n",
    "            stack += graph[n] - set(visited)\r\n",
    "        return visited\r\n",
    "\r\n",
    "print(dfs(graph_list, root_node))"
   ],
   "outputs": [],
   "metadata": {}
  }
 ],
 "metadata": {
  "orig_nbformat": 4,
  "language_info": {
   "name": "python",
   "version": "3.6.8",
   "mimetype": "text/x-python",
   "codemirror_mode": {
    "name": "ipython",
    "version": 3
   },
   "pygments_lexer": "ipython3",
   "nbconvert_exporter": "python",
   "file_extension": ".py"
  },
  "kernelspec": {
   "name": "python3",
   "display_name": "Python 3.6.8 64-bit"
  },
  "interpreter": {
   "hash": "e8f7d7992b3750aad37dfb2f9b6271d0bd5cf7017734ec483068964b0dea1986"
  }
 },
 "nbformat": 4,
 "nbformat_minor": 2
}