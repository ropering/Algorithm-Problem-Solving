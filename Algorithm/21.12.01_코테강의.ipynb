{
 "cells": [
  {
   "cell_type": "markdown",
   "metadata": {},
   "source": [
    "### 수업 내용\n",
    "- Hash\n",
    "    - key, value 쌍 (딕셔너리)\n",
    "- Stack (ex. 뒤로가기, DFS) (프링글스)\n",
    "    - Push\n",
    "    - Pop\n",
    "- Queue (ex. 마트 계산대) (밑빠진 독)\n",
    "    - InQueue\n",
    "    - DeQueue\n",
    "- Heap : 특정한 규칙을 가지는 트리\n",
    "    - 최댓값과 최솟값을 찾는 연산을 빠르게 하기 위해 고안된 완전이진트리가 기본\n",
    "    - 우선순위 (ex. 윈도우 작업 스케쥴러)\n",
    "    - 힙을 이용해서 우선순위 큐 구현가능\n",
    "    - Max Heap : 부모 노드 키 값 > 자식 노드의 키 값 -> 항상 큰 경우 (부모 노드가 가장 먼저 출력된다)\n",
    "    - Min Heap : 부모 노드 키 값 < 자식 노드의 키 값 -> 항상 작은 경우 (부모 노드가 가장 먼저 출력된다)\n",
    "- Sort\n",
    "    - xxx.sort()\n",
    "    - sorted(xxx)\n",
    "- 완전탐색 (brute force)\n",
    "    - 단순하지만, 놓치지 않는다(정확도↑)\n",
    "    - 모든 후보를 검사한다\n",
    "        - back tracking (역추적)\n",
    "            - 불필요한 탐색 그만두기\n",
    "        - 검색 방법\n",
    "            - BFS (Breath First Search)\n",
    "                - Queue 이용\n",
    "                1. 깊이를 하나식 내려가면서\n",
    "                2. 그 레벨에 있는 노드를 전부 탐색하여\n",
    "                3. 다음 레벨로 내려가면서 탐색\n",
    "            - DFS (Depth First Search)\n",
    "                - 스택 or 재귀적 함수 호출 이용\n",
    "                1. 가장 위에 있는 부모 노드의 깊숙한 방\n",
    "    - 속도가 느리다\n",
    "- Greedy Algorithm (트리구조로 완전탐색 vs Greedy 비교가능) ex) 가장 작은 갯수의 동전으로 1000원 맞추기\n",
    "    - 문제를 해결하는 과정에서 순간 순간마다 최적의 결정하는 방식\n",
    "    - 전체를 보지 않고 근시안 적이기 때문에 최적의 해를 찾지 못하지만, but 처리 속도가 빨라서 완전 탐색의 복잡도가 너무 클 때, 의미를 가진다\n",
    "    - 완전탐색 : 정확도↑ 느리다 / 탐욕법 : 정확도↓ 빠르다\n",
    "- Dynamic Programming (동적 계획법)\n",
    "    - Memoization \n",
    "        - 문제를 잘게 쪼게 동일 계산 반복 시, 이전 계산 값을 메모리에 저장하여, 매번 다시 실행하지 않도록 해서, 실행 속도를 높이는 기술\n",
    "        - ex) 피보나치 수열\n",
    "- 이분 탐색\n",
    "    - 정렬된 배열에서 중간값 에서 왼쪽, 오른쪽을 선택 및 반복하여 값을 찾아내는 탐색 방법\n",
    "    "
   ]
  },
  {
   "cell_type": "code",
   "execution_count": 4,
   "metadata": {},
   "outputs": [
    {
     "name": "stdout",
     "output_type": "stream",
     "text": [
      "1e2e59f9b7042f030083b1f07c1c24d83b6b204d ,길이 : 40\n"
     ]
    }
   ],
   "source": [
    "# Hash\n",
    "\n",
    "import hashlib\n",
    "\n",
    "def sha1_hash(input):\n",
    "    hash_object = hashlib.sha1(input.encode())\n",
    "    hash_value = hash_object.hexdigest()\n",
    "    hash_object.\n",
    "    return hash_value\n",
    "\n",
    "hash_value1 = sha1_hash(\"오명균\")\n",
    "print(hash_value1, \",길이 :\", len(hash_value1))\n",
    "\"\"\"\n",
    "글자수에 관계없이 길이가 고정되어 있는 숫자로 만들어 준다\n",
    "보안에 좋다\n",
    "검색이 빠르다 : 하나의 숫자로 변환되기 때문에 하나의 반복문으로도 검색 가능\"\"\""
   ]
  },
  {
   "cell_type": "code",
   "execution_count": 10,
   "metadata": {},
   "outputs": [
    {
     "data": {
      "text/plain": [
       "'mislav'"
      ]
     },
     "execution_count": 10,
     "metadata": {},
     "output_type": "execute_result"
    }
   ],
   "source": [
    "# Hash\n",
    "# 효율성 테스트 실패\n",
    "# 완주하지 못한 선수\n",
    "def solution(participant, completion):\n",
    "    for i in completion:\n",
    "        participant.remove(i)\n",
    "    return participant[0]\n",
    "\n",
    "solution([\"mislav\", \"stanko\", \"mislav\", \"ana\"],\t[\"stanko\", \"ana\", \"mislav\"])"
   ]
  },
  {
   "cell_type": "code",
   "execution_count": 11,
   "metadata": {},
   "outputs": [],
   "source": [
    "# Stack, Queue\n",
    "\n",
    "def stack(input):\n",
    "    pass\n",
    "\n",
    "def queue(input):\n",
    "    pass\n",
    "\n"
   ]
  },
  {
   "cell_type": "code",
   "execution_count": 5,
   "metadata": {},
   "outputs": [
    {
     "name": "stdout",
     "output_type": "stream",
     "text": [
      "[50]\n",
      "[30, 50]\n",
      "[30, 50, 90]\n",
      "[20, 30, 90, 50]\n",
      "[30, 50, 90]\n",
      "[50, 90]\n",
      "[90]\n",
      "[]\n"
     ]
    }
   ],
   "source": [
    "# Heap\n",
    "\n",
    "import heapq\n",
    "\n",
    "heap = []\n",
    "\n",
    "heapq.heappush(heap, 50)\n",
    "print(heap)\n",
    "heapq.heappush(heap, 30)\n",
    "print(heap)\n",
    "heapq.heappush(heap, 90)\n",
    "print(heap)\n",
    "heapq.heappush(heap, 20)\n",
    "print(heap)\n",
    "\n",
    "heapq.heappop(heap)\n",
    "print(heap)\n",
    "heapq.heappop(heap)\n",
    "print(heap)\n",
    "heapq.heappop(heap)\n",
    "print(heap)\n",
    "heapq.heappop(heap)\n",
    "print(heap)\n"
   ]
  },
  {
   "cell_type": "code",
   "execution_count": 8,
   "metadata": {},
   "outputs": [
    {
     "name": "stdout",
     "output_type": "stream",
     "text": [
      "<class 'list'>\n",
      "50 [10, 20]\n"
     ]
    }
   ],
   "source": [
    "heap = [50, 10, 20]\n",
    "print(type(heap))\n",
    "\n",
    "res = heapq.heappop(heap)\n",
    "print(res, heap) # 부모 노드 == 가장 큰 값 -> min Heap 임을 알 수 있다"
   ]
  },
  {
   "cell_type": "code",
   "execution_count": 9,
   "metadata": {},
   "outputs": [
    {
     "name": "stdout",
     "output_type": "stream",
     "text": [
      "[1, 3, 5, 7, 9]\n",
      "1 [3, 7, 5, 9]\n"
     ]
    }
   ],
   "source": [
    "heap_content = [1, 3, 5, 7, 9]\n",
    "heap = []\n",
    "\n",
    "for item in heap_content:\n",
    "    heapq.heappush(heap, item)\n",
    "print(heap)\n",
    "\n",
    "res = heapq.heappop(heap)\n",
    "print(res, heap)"
   ]
  },
  {
   "cell_type": "code",
   "execution_count": 16,
   "metadata": {},
   "outputs": [
    {
     "name": "stdout",
     "output_type": "stream",
     "text": [
      "[[-9, 9], [-7, 7], [-3, 3], [-1, 1], [-5, 5]]\n",
      "\n",
      "min heap [-9, 9] [[-7, 7], [-5, 5], [-3, 3], [-1, 1]]\n",
      "max heap 9 [[-7, 7], [-5, 5], [-3, 3], [-1, 1]]\n"
     ]
    }
   ],
   "source": [
    "heap_content = [1, 3, 5, 7, 9]\n",
    "heap = []\n",
    "\n",
    "for item in heap_content:\n",
    "    heapq.heappush(heap, [-item, item])\n",
    "print(heap)\n",
    "print()\n",
    "res = heapq.heappop(heap)\n",
    "print(\"min heap\", res, heap)\n",
    "\n",
    "print(\"max heap\", res[1], heap) # 부모가 최대"
   ]
  },
  {
   "cell_type": "code",
   "execution_count": 22,
   "metadata": {},
   "outputs": [
    {
     "name": "stdout",
     "output_type": "stream",
     "text": [
      "[1, 3, 4]\n",
      "c\n",
      "a\n",
      "b\n"
     ]
    }
   ],
   "source": [
    "# Sort\n",
    "\n",
    "dict1 = {3:\"a\", 4:\"b\", 1:\"c\"}\n",
    "res = sorted(dict1)\n",
    "print(res)\n",
    "for key in res:\n",
    "    print(dict1[key]) # key 값 오름차순으로 value 출력"
   ]
  },
  {
   "cell_type": "code",
   "execution_count": 27,
   "metadata": {},
   "outputs": [
    {
     "name": "stdout",
     "output_type": "stream",
     "text": [
      "[('ㄴ', 'A', 20171239), ('ㅁ', 'A', 20151239), ('ㅇ', 'A', 20191239), ('오명균', 'A', 20161239)]\n"
     ]
    }
   ],
   "source": [
    "students = [\n",
    "    (\"오명균\", \"A\", 20161239),\n",
    "    (\"ㅁ\", \"A\", 20151239),\n",
    "    (\"ㄴ\", \"A\", 20171239),\n",
    "    (\"ㅇ\", \"A\", 20191239),\n",
    "]\n",
    "res = sorted(students)\n",
    "print(res)\n",
    "\n",
    "res1 = sorted(students, key=lambda x: x[2])"
   ]
  },
  {
   "cell_type": "code",
   "execution_count": 32,
   "metadata": {},
   "outputs": [
    {
     "name": "stdout",
     "output_type": "stream",
     "text": [
      "[False, False, False, False, False, False, False, False, False]\n"
     ]
    }
   ],
   "source": [
    "# DFS\n",
    "from collections import deque\n",
    "\n",
    "graph = [\n",
    "    [], #\n",
    "    [2, 3, 8], #2\n",
    "    [1, 7], #3\n",
    "    [1, 4, 5], #\n",
    "    [3, 5],#\n",
    "    [3, 4],#\n",
    "    [7],#\n",
    "    [2, 6, 8],#\n",
    "    [1, 7]#\n",
    "]\n",
    "\n",
    "visited = [False] * len(graph)\n",
    "print(visited)\n"
   ]
  },
  {
   "cell_type": "code",
   "execution_count": 1,
   "metadata": {},
   "outputs": [],
   "source": [
    "def bfs(graph, start, visited):\n",
    "    queue = deque([start])\n",
    "    visited[start] = True"
   ]
  },
  {
   "cell_type": "code",
   "execution_count": 5,
   "metadata": {},
   "outputs": [
    {
     "name": "stdout",
     "output_type": "stream",
     "text": [
      "3\n",
      "0.0\n"
     ]
    }
   ],
   "source": [
    "# fibonacci 수열\n",
    "\n",
    "import time\n",
    "        \n",
    "start_time = time.time()\n",
    "print(3)\n",
    "end_time = time.time()\n",
    "print(end_time - start_time)"
   ]
  },
  {
   "cell_type": "code",
   "execution_count": null,
   "metadata": {},
   "outputs": [],
   "source": [
    "def fibo_loop(n):\n",
    "    cur = 0\n",
    "    next = 1\n",
    "    \n",
    "    for _ in range(n):\n",
    "        cur, next = next, cur + next\n",
    "    return cur\n",
    "\n",
    "fibo_loop(10000)"
   ]
  },
  {
   "cell_type": "code",
   "execution_count": 10,
   "metadata": {},
   "outputs": [
    {
     "ename": "TypeError",
     "evalue": "unsupported operand type(s) for //: 'list' and 'int'",
     "output_type": "error",
     "traceback": [
      "\u001b[1;31m---------------------------------------------------------------------------\u001b[0m",
      "\u001b[1;31mTypeError\u001b[0m                                 Traceback (most recent call last)",
      "\u001b[1;32m<ipython-input-10-5f3d2e9caa03>\u001b[0m in \u001b[0;36m<module>\u001b[1;34m\u001b[0m\n\u001b[0;32m     14\u001b[0m         \u001b[0mright_idx\u001b[0m \u001b[1;33m=\u001b[0m \u001b[0mmid_idx\u001b[0m \u001b[1;33m-\u001b[0m \u001b[1;36m1\u001b[0m\u001b[1;33m\u001b[0m\u001b[1;33m\u001b[0m\u001b[0m\n\u001b[0;32m     15\u001b[0m         \u001b[0mbinary_search\u001b[0m\u001b[1;33m(\u001b[0m\u001b[0mtarget\u001b[0m\u001b[1;33m,\u001b[0m \u001b[0marray\u001b[0m\u001b[1;33m[\u001b[0m\u001b[0mleft_idx\u001b[0m\u001b[1;33m:\u001b[0m\u001b[0mright_idx\u001b[0m\u001b[1;33m]\u001b[0m\u001b[1;33m)\u001b[0m\u001b[1;33m\u001b[0m\u001b[1;33m\u001b[0m\u001b[0m\n\u001b[1;32m---> 16\u001b[1;33m \u001b[0mbinary_search\u001b[0m\u001b[1;33m(\u001b[0m\u001b[1;36m2\u001b[0m\u001b[1;33m,\u001b[0m \u001b[1;33m[\u001b[0m\u001b[1;36m1\u001b[0m\u001b[1;33m,\u001b[0m\u001b[1;36m2\u001b[0m\u001b[1;33m,\u001b[0m\u001b[1;36m3\u001b[0m\u001b[1;33m,\u001b[0m\u001b[1;36m4\u001b[0m\u001b[1;33m,\u001b[0m\u001b[1;36m5\u001b[0m\u001b[1;33m,\u001b[0m\u001b[1;36m6\u001b[0m\u001b[1;33m,\u001b[0m\u001b[1;36m7\u001b[0m\u001b[1;33m]\u001b[0m\u001b[1;33m)\u001b[0m\u001b[1;33m\u001b[0m\u001b[1;33m\u001b[0m\u001b[0m\n\u001b[0m\u001b[0;32m     17\u001b[0m \u001b[1;33m\u001b[0m\u001b[0m\n",
      "\u001b[1;32m<ipython-input-10-5f3d2e9caa03>\u001b[0m in \u001b[0;36mbinary_search\u001b[1;34m(target, array)\u001b[0m\n\u001b[0;32m      3\u001b[0m \u001b[1;32mdef\u001b[0m \u001b[0mbinary_search\u001b[0m\u001b[1;33m(\u001b[0m\u001b[0mtarget\u001b[0m\u001b[1;33m,\u001b[0m \u001b[0marray\u001b[0m\u001b[1;33m)\u001b[0m\u001b[1;33m:\u001b[0m\u001b[1;33m\u001b[0m\u001b[1;33m\u001b[0m\u001b[0m\n\u001b[0;32m      4\u001b[0m     \u001b[0mleft_idx\u001b[0m \u001b[1;33m=\u001b[0m \u001b[1;36m0\u001b[0m\u001b[1;33m\u001b[0m\u001b[1;33m\u001b[0m\u001b[0m\n\u001b[1;32m----> 5\u001b[1;33m     \u001b[0mmid_idx\u001b[0m \u001b[1;33m=\u001b[0m \u001b[0marray\u001b[0m \u001b[1;33m//\u001b[0m \u001b[1;36m2\u001b[0m\u001b[1;33m\u001b[0m\u001b[1;33m\u001b[0m\u001b[0m\n\u001b[0m\u001b[0;32m      6\u001b[0m     \u001b[0mright_idx\u001b[0m \u001b[1;33m=\u001b[0m \u001b[0mlen\u001b[0m\u001b[1;33m(\u001b[0m\u001b[0marray\u001b[0m\u001b[1;33m)\u001b[0m \u001b[1;33m-\u001b[0m \u001b[1;36m1\u001b[0m\u001b[1;33m\u001b[0m\u001b[1;33m\u001b[0m\u001b[0m\n\u001b[0;32m      7\u001b[0m \u001b[1;33m\u001b[0m\u001b[0m\n",
      "\u001b[1;31mTypeError\u001b[0m: unsupported operand type(s) for //: 'list' and 'int'"
     ]
    }
   ],
   "source": [
    "# 이분 탐색 - 재귀함수로 해결하기\n",
    "\n",
    "def binary_search(target, array):\n",
    "    left_idx = 0\n",
    "    mid_idx = array // 2\n",
    "    right_idx = len(array) - 1\n",
    "    \n",
    "    if array[mid_idx] == target:\n",
    "        return (\"발견\", array[mid_idx])\n",
    "    elif array[mid_idx] < target:\n",
    "        left_idx = mid_idx + 1\n",
    "        binary_search(target, array[left_idx:right_idx])\n",
    "    elif array[mid_idx] > target:\n",
    "        right_idx = mid_idx - 1\n",
    "        binary_search(target, array[left_idx:right_idx])\n",
    "binary_search(2, [1,2,3,4,5,6,7])\n",
    "        "
   ]
  },
  {
   "cell_type": "code",
   "execution_count": null,
   "metadata": {},
   "outputs": [],
   "source": [
    "계획\n",
    "\n",
    "파이썬, 알고리즘, 백엔드\n"
   ]
  }
 ],
 "metadata": {
  "interpreter": {
   "hash": "0571952cf185b645b8794aefa49983defff2d3aa55907d1ef8ee9c7129cf9fc9"
  },
  "kernelspec": {
   "display_name": "Python 3.9.7 64-bit",
   "language": "python",
   "name": "python3"
  },
  "language_info": {
   "codemirror_mode": {
    "name": "ipython",
    "version": 3
   },
   "file_extension": ".py",
   "mimetype": "text/x-python",
   "name": "python",
   "nbconvert_exporter": "python",
   "pygments_lexer": "ipython3",
   "version": "3.8.8"
  },
  "orig_nbformat": 4
 },
 "nbformat": 4,
 "nbformat_minor": 2
}
