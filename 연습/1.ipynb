{
 "cells": [
  {
   "cell_type": "code",
   "execution_count": 1,
   "source": [
    "'''total값이 100이 넘지 않을 때까지 9의 배수를 더하라'''\r\n",
    "\r\n",
    "'''for문 사용'''\r\n",
    "sum = 0\r\n",
    "for i in range(9, 100, 9):\r\n",
    "    if sum + i > 100:\r\n",
    "        break\r\n",
    "    sum += i\r\n",
    "print(sum)\r\n"
   ],
   "outputs": [
    {
     "output_type": "stream",
     "name": "stdout",
     "text": [
      "90\n"
     ]
    }
   ],
   "metadata": {}
  },
  {
   "cell_type": "code",
   "execution_count": null,
   "source": [
    "'''while문 사용'''\r\n",
    "sum = 0\r\n",
    "num = 0\r\n",
    "\r\n",
    "while sum + num < 100:\r\n",
    "    num += 1\r\n",
    "    if num % 9 == 0:\r\n",
    "        sum += num\r\n",
    "\r\n",
    "print(sum)\r\n",
    "# li = list(map(str, li))\r\n",
    "# li = ' + '.join(li)\r\n",
    "# print(li, sum, sep=\" = \")"
   ],
   "outputs": [],
   "metadata": {}
  }
 ],
 "metadata": {
  "orig_nbformat": 4,
  "language_info": {
   "name": "python",
   "version": "3.8.6",
   "mimetype": "text/x-python",
   "codemirror_mode": {
    "name": "ipython",
    "version": 3
   },
   "pygments_lexer": "ipython3",
   "nbconvert_exporter": "python",
   "file_extension": ".py"
  },
  "kernelspec": {
   "name": "python3",
   "display_name": "Python 3.8.6 64-bit (system)"
  },
  "interpreter": {
   "hash": "2db524e06e9f5f4ffedc911c917cb75e12dbc923643829bf417064a77eb14d37"
  }
 },
 "nbformat": 4,
 "nbformat_minor": 2
}